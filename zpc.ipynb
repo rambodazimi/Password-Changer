{
  "metadata": {
    "language_info": {
      "codemirror_mode": {
        "name": "python",
        "version": 3
      },
      "file_extension": ".py",
      "mimetype": "text/x-python",
      "name": "python",
      "nbconvert_exporter": "python",
      "pygments_lexer": "ipython3",
      "version": "3.8"
    },
    "kernelspec": {
      "name": "python",
      "display_name": "Python (Pyodide)",
      "language": "python"
    }
  },
  "nbformat_minor": 4,
  "nbformat": 4,
  "cells": [
    {
      "cell_type": "markdown",
      "source": "This simple program makes use of BeautifulSoup, requests, base64, and selenium Python libraries to automate administrator password change on Zebra printers.\nIt first connects to the IP address to access the admin's panel on the Zebra printer and then asks for a new password.\nIt changes the \"print server\" admin password.\nIn order to run this program on your own machine, make sure you have Python already installed on your computer, as well as the mentioned libraries:\n\nrequests\nbase64\nBeautifulSoup\nwebbrowser\nselenium",
      "metadata": {}
    },
    {
      "cell_type": "code",
      "source": "import requests\nimport base64\nfrom bs4 import BeautifulSoup\nimport webbrowser\n# import warnings\n# warnings.filterwarnings(\"ignore\")\nfrom selenium import webdriver\n\n# Author: Rambod Azimi\n# This Python script gets the IP address of the printer with username and password\n# Then, it do the authorization process and goes to the following menus:\n# Print Server Settings --> Print Server --> Web Admin\n# Finally, it displays the content of that page (Admin name, password, http port, ...)\n\n\nurl = input(\"Please enter the IP address of the printer: \")\nurl = 'http://' + url\n\nusername = input(\"Please enter the username of the printer (empty for default): \")\n\nif(len(username) == 0):\n    username = 'admin'\n\npassword = input(\"Please enter the password of the printer (empty for default): \")\n\nif(len(password) == 0):\n    password = '1234'\n\ncredentials = f'{username}:{password}'.encode('utf-8')\nencoded_credentials = base64.b64encode(credentials).decode('utf-8')\n\nheaders = {\n    'Authorization': f'Basic {encoded_credentials}'\n}\n\nresponse = requests.get(url, headers=headers)\n\nsoup = BeautifulSoup(response.content, 'html.parser')\nprint_server_settings_link = soup.find('a', text='Print Server Settings')\n\nif print_server_settings_link:\n    print_server_settings_url = url + print_server_settings_link.get('href')\n    print_server_settings_response = requests.get(print_server_settings_url, headers=headers)\n\n    print_server_settings_soup = BeautifulSoup(print_server_settings_response.content, 'html.parser')\n    print_server_link = print_server_settings_soup.find('a', text='Print Server')\n\n    if print_server_link:\n        print_server_url = url + print_server_link.get('href')\n\n        print_server_response = requests.get(print_server_url, headers=headers)\n\n        print_server_soup = BeautifulSoup(print_server_response.content, 'html.parser')\n        web_admin_link = print_server_soup.find('a', text='Web Admin')\n\n        if web_admin_link:\n            web_admin_url = url + '/' + 'server/' + web_admin_link.get('href')\n            webbrowser.open(web_admin_url)\n            web_admin_response = requests.get(web_admin_url, headers=headers)\n           # print(web_admin_response.content)\n        else:\n            print('Web Admin link not found on Print Server page')\n    else:\n        print('Print Server link not found on Print Server Settings page')\nelse:\n    print('Print Server Settings link not found')\n\n\n# TODO change the password and submit changes\n\"\"\"\"\nisFound = False\n\n# Replace the string in the HTML content\nold_string = \"<input type=password value=\\\"********\\\"\"\nnew_string = \"<input type=password value=\\\"RAMBOD\\\"\"\nhtml_content = web_admin_response.content.decode(\"utf-8\")  # Convert bytes to string\n\nif(html_content.__contains__(old_string)):\n    isFound = True\n\nhtml_content = html_content.replace(old_string, new_string)\n\n# print(html_content)\n\n# Send a POST request to update the website (if applicable)\nweb_admin_response = requests.post(web_admin_url, data=html_content, headers=headers)\n\nprint(web_admin_response.text)\n\n\"\"\"",
      "metadata": {
        "trusted": true
      },
      "execution_count": 1,
      "outputs": [
        {
          "ename": "<class 'ModuleNotFoundError'>",
          "evalue": "No module named 'requests'",
          "traceback": [
            "\u001b[0;31m---------------------------------------------------------------------------\u001b[0m",
            "\u001b[0;31mModuleNotFoundError\u001b[0m                       Traceback (most recent call last)",
            "Cell \u001b[0;32mIn[1], line 1\u001b[0m\n\u001b[0;32m----> 1\u001b[0m \u001b[38;5;28;01mimport\u001b[39;00m \u001b[38;5;21;01mrequests\u001b[39;00m\n\u001b[1;32m      2\u001b[0m \u001b[38;5;28;01mimport\u001b[39;00m \u001b[38;5;21;01mbase64\u001b[39;00m\n\u001b[1;32m      3\u001b[0m \u001b[38;5;28;01mfrom\u001b[39;00m \u001b[38;5;21;01mbs4\u001b[39;00m \u001b[38;5;28;01mimport\u001b[39;00m BeautifulSoup\n",
            "\u001b[0;31mModuleNotFoundError\u001b[0m: No module named 'requests'"
          ],
          "output_type": "error"
        }
      ]
    },
    {
      "cell_type": "code",
      "source": "",
      "metadata": {},
      "execution_count": null,
      "outputs": []
    }
  ]
}